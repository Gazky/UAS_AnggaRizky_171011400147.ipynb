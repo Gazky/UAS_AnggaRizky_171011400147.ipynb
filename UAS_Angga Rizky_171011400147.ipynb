# UAS_AnggaRizky_171011400147.ipynb
Memenuhi tugas UAS mata kuliah Kecerdasan Buatan
